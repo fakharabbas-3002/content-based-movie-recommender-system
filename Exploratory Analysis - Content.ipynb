{
 "cells": [
  {
   "cell_type": "markdown",
   "id": "abdfeefa",
   "metadata": {},
   "source": [
    "## Importing libraries"
   ]
  },
  {
   "cell_type": "code",
   "execution_count": 1,
   "id": "b64cf567",
   "metadata": {},
   "outputs": [],
   "source": [
    "import pandas as pd\n",
    "import numpy as np\n",
    "import matplotlib.pyplot as plt\n",
    "\n",
    "base_path = 'data/'"
   ]
  },
  {
   "cell_type": "markdown",
   "id": "0670802c",
   "metadata": {},
   "source": [
    "## Movies dataset\n",
    "\n",
    "Lets explore movies dataset"
   ]
  },
  {
   "cell_type": "code",
   "execution_count": 2,
   "id": "b94ba231",
   "metadata": {},
   "outputs": [
    {
     "name": "stdout",
     "output_type": "stream",
     "text": [
      "          id                        title   imdbID  \\\n",
      "0          1                    Toy story   114709   \n",
      "1          2                      Jumanji   113497   \n",
      "2          3               Grumpy Old Men   107050   \n",
      "3          4            Waiting to Exhale   114885   \n",
      "4          5  Father of the Bride Part II   113041   \n",
      "...      ...                          ...      ...   \n",
      "10192  65088              Bedtime Stories   960731   \n",
      "10193  65091          Manhattan Melodrama    25464   \n",
      "10194  65126                        Choke  1024715   \n",
      "10195  65130           Revolutionary Road   959337   \n",
      "10196  65133      Blackadder Back & Forth   212579   \n",
      "\n",
      "                                            spanishTitle  \\\n",
      "0                                   Toy story (juguetes)   \n",
      "1                                                Jumanji   \n",
      "2                                    Dos viejos gruñones   \n",
      "3                                   Esperando un respiro   \n",
      "4      Vuelve el padre de la novia (Ahora también abu...   \n",
      "...                                                  ...   \n",
      "10192                             Más allá de los sueños   \n",
      "10193                        El enemigo público número 1   \n",
      "10194                                              Choke   \n",
      "10195                                 Revolutionary Road   \n",
      "10196                            Blackadder Back & Forth   \n",
      "\n",
      "                                          imdbPictureURL  year  \\\n",
      "0      http://ia.media-imdb.com/images/M/MV5BMTMwNDU0...  1995   \n",
      "1      http://ia.media-imdb.com/images/M/MV5BMzM5NjE1...  1995   \n",
      "2      http://ia.media-imdb.com/images/M/MV5BMTI5MTgy...  1993   \n",
      "3      http://ia.media-imdb.com/images/M/MV5BMTczMTMy...  1995   \n",
      "4      http://ia.media-imdb.com/images/M/MV5BMTg1NDc2...  1995   \n",
      "...                                                  ...   ...   \n",
      "10192  http://ia.media-imdb.com/images/M/MV5BMjA5Njk5...  2008   \n",
      "10193  http://ia.media-imdb.com/images/M/MV5BMTUyODE3...  1934   \n",
      "10194  http://ia.media-imdb.com/images/M/MV5BMTMxMDI4...  2008   \n",
      "10195  http://ia.media-imdb.com/images/M/MV5BMTI2MzY2...  2008   \n",
      "10196  http://ia.media-imdb.com/images/M/MV5BMjA5MjU4...  1999   \n",
      "\n",
      "                              rtID rtAllCriticsRating rtAllCriticsNumReviews  \\\n",
      "0                        toy_story                  9                     73   \n",
      "1                  1068044-jumanji                5.6                     28   \n",
      "2                   grumpy_old_men                5.9                     36   \n",
      "3                waiting_to_exhale                5.6                     25   \n",
      "4      father_of_the_bride_part_ii                5.3                     19   \n",
      "...                            ...                ...                    ...   \n",
      "10192              bedtime_stories                4.4                    104   \n",
      "10193          manhattan_melodrama                  7                     12   \n",
      "10194                        choke                5.6                    135   \n",
      "10195           revolutionary_road                6.7                    194   \n",
      "10196        blackadder-back-forth                  0                      0   \n",
      "\n",
      "      rtAllCriticsNumFresh  ... rtAllCriticsScore rtTopCriticsRating  \\\n",
      "0                       73  ...               100                8.5   \n",
      "1                       13  ...                46                5.8   \n",
      "2                       24  ...                66                  7   \n",
      "3                       14  ...                56                5.5   \n",
      "4                        9  ...                47                5.4   \n",
      "...                    ...  ...               ...                ...   \n",
      "10192                   26  ...                25                4.7   \n",
      "10193                   10  ...                83                  0   \n",
      "10194                   73  ...                54                4.9   \n",
      "10195                  133  ...                68                6.9   \n",
      "10196                    0  ...                 0                  0   \n",
      "\n",
      "      rtTopCriticsNumReviews rtTopCriticsNumFresh rtTopCriticsNumRotten  \\\n",
      "0                         17                   17                     0   \n",
      "1                          5                    2                     3   \n",
      "2                          6                    5                     1   \n",
      "3                         11                    5                     6   \n",
      "4                          5                    1                     4   \n",
      "...                      ...                  ...                   ...   \n",
      "10192                     26                    6                    20   \n",
      "10193                      4                    2                     2   \n",
      "10194                     26                    8                    18   \n",
      "10195                     36                   25                    11   \n",
      "10196                      0                    0                     0   \n",
      "\n",
      "      rtTopCriticsScore rtAudienceRating rtAudienceNumRatings rtAudienceScore  \\\n",
      "0                   100              3.7               102338              81   \n",
      "1                    40              3.2                44587              61   \n",
      "2                    83              3.2                10489              66   \n",
      "3                    45              3.3                 5666              79   \n",
      "4                    20                3                13761              64   \n",
      "...                 ...              ...                  ...             ...   \n",
      "10192                23              3.5               108877              63   \n",
      "10193                50              3.7                  344              71   \n",
      "10194                30              3.3                13893              55   \n",
      "10195                69              3.5                46044              70   \n",
      "10196                 0                0                    0               0   \n",
      "\n",
      "                                            rtPictureURL  \n",
      "0      http://content7.flixster.com/movie/10/93/63/10...  \n",
      "1      http://content8.flixster.com/movie/56/79/73/56...  \n",
      "2      http://content6.flixster.com/movie/25/60/25602...  \n",
      "3      http://content9.flixster.com/movie/10/94/17/10...  \n",
      "4      http://content8.flixster.com/movie/25/54/25542...  \n",
      "...                                                  ...  \n",
      "10192  http://content6.flixster.com/movie/10/94/33/10...  \n",
      "10193  http://content9.flixster.com/movie/66/44/64/66...  \n",
      "10194  http://content6.flixster.com/movie/10/85/09/10...  \n",
      "10195  http://content8.flixster.com/movie/10/88/40/10...  \n",
      "10196  http://content7.flixster.com/movie/34/10/69/34...  \n",
      "\n",
      "[10197 rows x 21 columns]\n"
     ]
    }
   ],
   "source": [
    "#movies = pd.read_csv('/home/fakhar/Data/Projects/movie_rec/movies.dat', encoding=\"ISO-8859-1\", sep=\"\\t\")\n",
    "movies = pd.read_table(base_path+'movies.dat', encoding=\"ISO-8859-1\")\n",
    "print(movies)"
   ]
  },
  {
   "cell_type": "markdown",
   "id": "3ba90d44",
   "metadata": {},
   "source": [
    "Just to get overview of all columns in movies dataset."
   ]
  },
  {
   "cell_type": "code",
   "execution_count": 3,
   "id": "c23a173a",
   "metadata": {
    "scrolled": true
   },
   "outputs": [
    {
     "name": "stdout",
     "output_type": "stream",
     "text": [
      "<class 'pandas.core.frame.DataFrame'>\n",
      "RangeIndex: 10197 entries, 0 to 10196\n",
      "Data columns (total 21 columns):\n",
      " #   Column                  Non-Null Count  Dtype \n",
      "---  ------                  --------------  ----- \n",
      " 0   id                      10197 non-null  int64 \n",
      " 1   title                   10197 non-null  object\n",
      " 2   imdbID                  10197 non-null  int64 \n",
      " 3   spanishTitle            10197 non-null  object\n",
      " 4   imdbPictureURL          10016 non-null  object\n",
      " 5   year                    10197 non-null  int64 \n",
      " 6   rtID                    9886 non-null   object\n",
      " 7   rtAllCriticsRating      10197 non-null  object\n",
      " 8   rtAllCriticsNumReviews  10197 non-null  object\n",
      " 9   rtAllCriticsNumFresh    10197 non-null  object\n",
      " 10  rtAllCriticsNumRotten   10197 non-null  object\n",
      " 11  rtAllCriticsScore       10197 non-null  object\n",
      " 12  rtTopCriticsRating      10197 non-null  object\n",
      " 13  rtTopCriticsNumReviews  10197 non-null  object\n",
      " 14  rtTopCriticsNumFresh    10197 non-null  object\n",
      " 15  rtTopCriticsNumRotten   10197 non-null  object\n",
      " 16  rtTopCriticsScore       10197 non-null  object\n",
      " 17  rtAudienceRating        10197 non-null  object\n",
      " 18  rtAudienceNumRatings    10197 non-null  object\n",
      " 19  rtAudienceScore         10197 non-null  object\n",
      " 20  rtPictureURL            10197 non-null  object\n",
      "dtypes: int64(3), object(18)\n",
      "memory usage: 1.6+ MB\n"
     ]
    }
   ],
   "source": [
    "movies.info()"
   ]
  },
  {
   "cell_type": "markdown",
   "id": "5996179c",
   "metadata": {},
   "source": [
    "Checking missing values for important atributes.\n",
    "\n",
    "Just imdbPictureURL has 181 missing values."
   ]
  },
  {
   "cell_type": "code",
   "execution_count": 4,
   "id": "99846860",
   "metadata": {},
   "outputs": [
    {
     "name": "stdout",
     "output_type": "stream",
     "text": [
      "0\n",
      "0\n",
      "0\n",
      "181\n",
      "0\n"
     ]
    }
   ],
   "source": [
    "print(movies.id.isna().sum())\n",
    "print(movies.title.isna().sum())\n",
    "print(movies.year.isna().sum())\n",
    "print(movies.imdbPictureURL.isna().sum())\n",
    "print(movies.rtPictureURL.isna().sum())"
   ]
  },
  {
   "cell_type": "code",
   "execution_count": 5,
   "id": "23fdc163",
   "metadata": {},
   "outputs": [],
   "source": [
    "movies = movies[['id', 'title', 'year']]"
   ]
  },
  {
   "cell_type": "code",
   "execution_count": 6,
   "id": "bec9efbf",
   "metadata": {},
   "outputs": [
    {
     "data": {
      "image/png": "[encoded data removed]",
      "text/plain": [
       "<Figure size 2500x800 with 1 Axes>"
      ]
     },
     "metadata": {},
     "output_type": "display_data"
    }
   ],
   "source": [
    "movie_year_data = movies[['year', 'id']].groupby(['year']).count().reset_index().rename(columns={'year':'Year Released', 'id':'No. of Movies'})\n",
    "movie_year_data.plot.bar('Year Released', 'No. of Movies', title='Movies released per year', figsize=(25, 8), fontsize=15);"
   ]
  },
  {
   "cell_type": "code",
   "execution_count": 7,
   "id": "cee185c3",
   "metadata": {},
   "outputs": [
    {
     "name": "stdout",
     "output_type": "stream",
     "text": [
      "       movieID      genre\n",
      "0            1  Adventure\n",
      "1            1  Animation\n",
      "2            1   Children\n",
      "3            1     Comedy\n",
      "4            1    Fantasy\n",
      "...        ...        ...\n",
      "20804    65126     Comedy\n",
      "20805    65126      Drama\n",
      "20806    65130      Drama\n",
      "20807    65130    Romance\n",
      "20808    65133     Comedy\n",
      "\n",
      "[20809 rows x 2 columns]\n"
     ]
    }
   ],
   "source": [
    "movie_genres = pd.read_table(base_path+'movie_genres.dat', encoding=\"ISO-8859-1\")\n",
    "print(movie_genres)"
   ]
  },
  {
   "cell_type": "code",
   "execution_count": 8,
   "id": "00b22ecf",
   "metadata": {},
   "outputs": [
    {
     "name": "stdout",
     "output_type": "stream",
     "text": [
      "['Adventure' 'Animation' 'Children' 'Comedy' 'Fantasy' 'Romance' 'Drama'\n",
      " 'Action' 'Crime' 'Thriller' 'Horror' 'Mystery' 'Sci-Fi' 'IMAX'\n",
      " 'Documentary' 'War' 'Musical' 'Film-Noir' 'Western' 'Short']\n"
     ]
    }
   ],
   "source": [
    "genres_unique = movie_genres['genre'].unique()\n",
    "print(genres_unique)\n"
   ]
  },
  {
   "cell_type": "code",
   "execution_count": 9,
   "id": "22dd2282",
   "metadata": {},
   "outputs": [
    {
     "name": "stdout",
     "output_type": "stream",
     "text": [
      "0\n",
      "0\n"
     ]
    }
   ],
   "source": [
    "print(movie_genres.movieID.isna().sum())\n",
    "print(movie_genres.genre.isna().sum())"
   ]
  },
  {
   "cell_type": "code",
   "execution_count": 10,
   "id": "53e5fc2a",
   "metadata": {},
   "outputs": [
    {
     "name": "stdout",
     "output_type": "stream",
     "text": [
      "          id            value\n",
      "0          1            earth\n",
      "1          2           police\n",
      "2          3           boxing\n",
      "3          4          painter\n",
      "4          5            whale\n",
      "...      ...              ...\n",
      "13217  16524  good in its day\n",
      "13218  16525           isaiah\n",
      "13219  16527      top 5 movie\n",
      "13220  16528        vontatott\n",
      "13221  16529              tps\n",
      "\n",
      "[13222 rows x 2 columns]\n"
     ]
    }
   ],
   "source": [
    "tags = pd.read_csv(base_path+'tags.dat', encoding=\"ISO-8859-1\", sep=\"\\t\")\n",
    "print(tags)"
   ]
  },
  {
   "cell_type": "code",
   "execution_count": 11,
   "id": "34622474",
   "metadata": {},
   "outputs": [
    {
     "name": "stdout",
     "output_type": "stream",
     "text": [
      "0\n",
      "0\n"
     ]
    }
   ],
   "source": [
    "print(tags.id.isna().sum())\n",
    "print(tags.value.isna().sum())\n"
   ]
  },
  {
   "cell_type": "code",
   "execution_count": 12,
   "id": "99096c47",
   "metadata": {},
   "outputs": [
    {
     "name": "stdout",
     "output_type": "stream",
     "text": [
      "       movieID  tagID  tagWeight\n",
      "0            1      7          1\n",
      "1            1     13          3\n",
      "2            1     25          3\n",
      "3            1     55          3\n",
      "4            1     60          1\n",
      "...        ...    ...        ...\n",
      "51790    65037    792          1\n",
      "51791    65037   2214          1\n",
      "51792    65126   5281          1\n",
      "51793    65126  13168          1\n",
      "51794    65130   2924          1\n",
      "\n",
      "[51795 rows x 3 columns]\n"
     ]
    }
   ],
   "source": [
    "movie_tags = pd.read_csv(base_path+'movie_tags.dat', encoding=\"ISO-8859-1\", sep=\"\\t\")\n",
    "print(movie_tags)"
   ]
  },
  {
   "cell_type": "code",
   "execution_count": 13,
   "id": "3301d305",
   "metadata": {},
   "outputs": [
    {
     "name": "stdout",
     "output_type": "stream",
     "text": [
      "0\n",
      "0\n",
      "0\n",
      "No. of Unique movies 7155\n",
      "No. of Unique tags 5297\n",
      "No. of Unique movies tag weight 30\n"
     ]
    }
   ],
   "source": [
    "print(movie_tags.movieID.isna().sum())\n",
    "print(movie_tags.tagID.isna().sum())\n",
    "print(movie_tags.tagWeight.isna().sum())\n",
    "print('No. of Unique movies', movie_tags.movieID.nunique())\n",
    "print('No. of Unique tags', movie_tags.tagID.nunique())\n",
    "print('No. of Unique movies tag weight', movie_tags.tagWeight.nunique())"
   ]
  },
  {
   "cell_type": "code",
   "execution_count": 14,
   "id": "5b5f2637",
   "metadata": {},
   "outputs": [
    {
     "name": "stdout",
     "output_type": "stream",
     "text": [
      "1     42306\n",
      "2      5808\n",
      "3      1669\n",
      "4       767\n",
      "5       405\n",
      "6       250\n",
      "7       148\n",
      "8       118\n",
      "9        75\n",
      "10       68\n",
      "11       48\n",
      "12       29\n",
      "13       21\n",
      "14       15\n",
      "15       11\n",
      "18       10\n",
      "19        9\n",
      "17        9\n",
      "16        8\n",
      "21        5\n",
      "24        3\n",
      "20        3\n",
      "22        2\n",
      "23        2\n",
      "29        1\n",
      "42        1\n",
      "40        1\n",
      "28        1\n",
      "25        1\n",
      "33        1\n",
      "Name: tagWeight, dtype: int64\n"
     ]
    }
   ],
   "source": [
    "print(movie_tags.tagWeight.value_counts())"
   ]
  },
  {
   "cell_type": "code",
   "execution_count": 15,
   "id": "817a9ba6",
   "metadata": {},
   "outputs": [
    {
     "name": "stdout",
     "output_type": "stream",
     "text": [
      "        movieID          actorID        actorName  ranking\n",
      "0             1      annie_potts      Annie Potts       10\n",
      "1             1      bill_farmer      Bill Farmer       20\n",
      "2             1      don_rickles      Don Rickles        3\n",
      "3             1  erik_von_detten  Erik von Detten       13\n",
      "4             1        greg-berg        Greg Berg       17\n",
      "...         ...              ...              ...      ...\n",
      "231737    65133       rik_mayall       Rik Mayall        6\n",
      "231738    65133   rowan_atkinson   Rowan Atkinson        7\n",
      "231739    65133      stephen_fry      Stephen Fry        8\n",
      "231740    65133    tim_mcinnerny    Tim McInnerny        9\n",
      "231741    65133    tony_robinson    Tony Robinson       10\n",
      "\n",
      "[231742 rows x 4 columns]\n"
     ]
    }
   ],
   "source": [
    "movie_actors = pd.read_table(base_path+'movie_actors.dat', encoding=\"ISO-8859-1\")\n",
    "print(movie_actors)"
   ]
  },
  {
   "cell_type": "code",
   "execution_count": 16,
   "id": "22bbf8ff",
   "metadata": {},
   "outputs": [
    {
     "name": "stdout",
     "output_type": "stream",
     "text": [
      "0\n",
      "0\n",
      "5\n",
      "0\n"
     ]
    }
   ],
   "source": [
    "print(movie_actors.movieID.isna().sum())\n",
    "print(movie_actors.actorID.isna().sum())\n",
    "print(movie_actors.actorName.isna().sum())\n",
    "print(movie_actors.ranking.isna().sum())"
   ]
  },
  {
   "cell_type": "code",
   "execution_count": 17,
   "id": "5df1723d",
   "metadata": {},
   "outputs": [
    {
     "name": "stdout",
     "output_type": "stream",
     "text": [
      "       movieID       directorID     directorName\n",
      "0            1    john_lasseter    John Lasseter\n",
      "1            2     joe_johnston     Joe Johnston\n",
      "2            3    donald_petrie    Donald Petrie\n",
      "3            4  forest_whitaker  Forest Whitaker\n",
      "4            5    charles_shyer    Charles Shyer\n",
      "...        ...              ...              ...\n",
      "10150    65088    adam_shankman    Adam Shankman\n",
      "10151    65091      ws_van_dyke    W.S. Van Dyke\n",
      "10152    65126      clark_gregg      Clark Gregg\n",
      "10153    65130       sam_mendes       Sam Mendes\n",
      "10154    65133     paul_weiland     Paul Weiland\n",
      "\n",
      "[10155 rows x 3 columns]\n"
     ]
    }
   ],
   "source": [
    "movie_directors = pd.read_csv(base_path+'movie_directors.dat', encoding=\"ISO-8859-1\", sep=\"\\t\")\n",
    "print(movie_directors)"
   ]
  },
  {
   "cell_type": "code",
   "execution_count": 18,
   "id": "7068c2d9",
   "metadata": {},
   "outputs": [
    {
     "name": "stdout",
     "output_type": "stream",
     "text": [
      "0\n",
      "0\n",
      "0\n"
     ]
    }
   ],
   "source": [
    "print(movie_directors.movieID.isna().sum())\n",
    "print(movie_directors.directorID.isna().sum())\n",
    "print(movie_directors.directorName.isna().sum())"
   ]
  }
 ],
 "metadata": {
  "kernelspec": {
   "display_name": "Python 3 (ipykernel)",
   "language": "python",
   "name": "python3"
  },
  "language_info": {
   "codemirror_mode": {
    "name": "ipython",
    "version": 3
   },
   "file_extension": ".py",
   "mimetype": "text/x-python",
   "name": "python",
   "nbconvert_exporter": "python",
   "pygments_lexer": "ipython3",
   "version": "3.10.6"
  }
 },
 "nbformat": 4,
 "nbformat_minor": 5
}
