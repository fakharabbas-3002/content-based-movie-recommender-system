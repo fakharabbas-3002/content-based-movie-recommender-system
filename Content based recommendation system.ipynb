{
 "cells": [
  {
   "cell_type": "markdown",
   "id": "8ade24f3",
   "metadata": {},
   "source": [
    "## Importing Libraries\n",
    "\n",
    "Importing all libraries on top so it can be easily placed in requirements.txt to setup new virtualenv"
   ]
  },
  {
   "cell_type": "code",
   "execution_count": 1,
   "id": "35faff0d",
   "metadata": {},
   "outputs": [],
   "source": [
    "import pandas as pd\n",
    "#import numpy as np\n",
    "from sklearn.feature_extraction.text import CountVectorizer\n",
    "from sklearn.metrics.pairwise import cosine_similarity\n",
    "import pickle\n",
    "\n",
    "base_path = 'data/'"
   ]
  },
  {
   "cell_type": "markdown",
   "id": "2c37ee32",
   "metadata": {},
   "source": [
    "## Working with Movies dataset\n",
    "\n",
    "This is main dataset where we mainly need movie id and title. All other attributes are not required in this system\n",
    "\n",
    "This is old dataset and picture urls are not working. Otherwise I could have used those as movie poster to display"
   ]
  },
  {
   "cell_type": "code",
   "execution_count": 2,
   "id": "35531aef",
   "metadata": {},
   "outputs": [
    {
     "name": "stdout",
     "output_type": "stream",
     "text": [
      "          id                        title\n",
      "0          1                    Toy story\n",
      "1          2                      Jumanji\n",
      "2          3               Grumpy Old Men\n",
      "3          4            Waiting to Exhale\n",
      "4          5  Father of the Bride Part II\n",
      "...      ...                          ...\n",
      "10192  65088              Bedtime Stories\n",
      "10193  65091          Manhattan Melodrama\n",
      "10194  65126                        Choke\n",
      "10195  65130           Revolutionary Road\n",
      "10196  65133      Blackadder Back & Forth\n",
      "\n",
      "[10197 rows x 2 columns]\n"
     ]
    }
   ],
   "source": [
    "movies = pd.read_table(base_path+'movies.dat', encoding=\"ISO-8859-1\")\n",
    "movies = movies[['id', 'title']]\n",
    "print(movies)"
   ]
  },
  {
   "cell_type": "markdown",
   "id": "b2b7cec6",
   "metadata": {},
   "source": [
    "## Working with Movie Genre\n",
    "\n",
    "One of the main dataset for our analysis.\n",
    "\n",
    "Checking if genre has single word or multiple."
   ]
  },
  {
   "cell_type": "code",
   "execution_count": 3,
   "id": "24d0fcc5",
   "metadata": {
    "scrolled": true
   },
   "outputs": [
    {
     "data": {
      "text/plain": [
       "False    20809\n",
       "Name: genre, dtype: int64"
      ]
     },
     "execution_count": 3,
     "metadata": {},
     "output_type": "execute_result"
    }
   ],
   "source": [
    "movie_genres = pd.read_table(base_path+'movie_genres.dat', encoding=\"ISO-8859-1\")\n",
    "movie_genres['genre'].str.contains(' ').value_counts()"
   ]
  },
  {
   "cell_type": "markdown",
   "id": "93c9f9ad",
   "metadata": {},
   "source": [
    "Since its single word so we can easily convert it into list of genres against each movie. \n",
    "\n",
    "Used groupby and aggrigate function with lambda, which is way faster in execution."
   ]
  },
  {
   "cell_type": "code",
   "execution_count": 4,
   "id": "798413f9",
   "metadata": {},
   "outputs": [],
   "source": [
    "movie_genres = movie_genres.groupby('movieID').agg(lambda x: list(x)).reset_index()\n",
    "movies = movies.merge(movie_genres, left_on='id', right_on='movieID')\n",
    "movies = movies.drop('movieID', axis=1)"
   ]
  },
  {
   "cell_type": "markdown",
   "id": "9b63a387",
   "metadata": {},
   "source": [
    "## Working with Movie Actors dataset\n",
    "I am not considering ranking in this analysis. \n",
    "\n",
    "Also using actorID instead of atorName because actorName has few missing values. I could drop mising values but I choose to go with actorID because informatio is same in both atributes."
   ]
  },
  {
   "cell_type": "code",
   "execution_count": 5,
   "id": "515d94ad",
   "metadata": {},
   "outputs": [],
   "source": [
    "movie_actors = pd.read_table(base_path+'movie_actors.dat', encoding=\"ISO-8859-1\")\n",
    "movie_actors = movie_actors[['movieID', 'actorID']]\n",
    "#print(movie_actors.dtypes)"
   ]
  },
  {
   "cell_type": "markdown",
   "id": "077daa01",
   "metadata": {},
   "source": [
    "No missing values"
   ]
  },
  {
   "cell_type": "code",
   "execution_count": 6,
   "id": "47069329",
   "metadata": {},
   "outputs": [
    {
     "name": "stdout",
     "output_type": "stream",
     "text": [
      "0\n"
     ]
    }
   ],
   "source": [
    "print(movie_actors.actorID.isna().sum())\n",
    "#movie_actors.dropna(inplace=True)"
   ]
  },
  {
   "cell_type": "markdown",
   "id": "8ddedd88",
   "metadata": {},
   "source": [
    "A tranform function which is basically removing underscore between parts of the name.\n",
    "\n",
    "Then capitalizing and joining them as single word. \n",
    "\n",
    "If we take parts of one actor name then those parts will be considered as separate name which will affect the results."
   ]
  },
  {
   "cell_type": "code",
   "execution_count": 7,
   "id": "669678f0",
   "metadata": {},
   "outputs": [],
   "source": [
    "def transform(val, sep):\n",
    "    new_val = val\n",
    "    if sep in val:\n",
    "        val_split = val.split(sep)\n",
    "        val_split = [val_split[i].capitalize() for i in range(len(val_split))]\n",
    "        new_val = ''.join(val_split)\n",
    "    \n",
    "    return new_val"
   ]
  },
  {
   "cell_type": "markdown",
   "id": "47a836ca",
   "metadata": {},
   "source": [
    "Applying this transform function with apply method which is way faster and uses vector operation in pandas. \n",
    "\n",
    "Then converting to list, merging it with movies dataset and removing additional movieID column."
   ]
  },
  {
   "cell_type": "code",
   "execution_count": 8,
   "id": "f521a229",
   "metadata": {},
   "outputs": [],
   "source": [
    "movie_actors['actorID'] = movie_actors['actorID'].apply(transform, sep=\"_\")\n",
    "movie_actors = movie_actors.groupby('movieID').agg(lambda x: list(x)).reset_index()\n",
    "movies = movies.merge(movie_actors, left_on='id', right_on='movieID')\n",
    "movies = movies.drop('movieID', axis=1)\n"
   ]
  },
  {
   "cell_type": "markdown",
   "id": "5054b82b",
   "metadata": {},
   "source": [
    "## Working with Movie Directors dataset\n",
    "\n",
    "Similar traformatons have been applied on this dataset as well. \n",
    "\n",
    "Then merged into main movies dataset."
   ]
  },
  {
   "cell_type": "code",
   "execution_count": 9,
   "id": "6477c9dc",
   "metadata": {},
   "outputs": [
    {
     "name": "stdout",
     "output_type": "stream",
     "text": [
      "0\n",
      "0\n"
     ]
    }
   ],
   "source": [
    "movie_directors = pd.read_csv(base_path+'movie_directors.dat', encoding=\"ISO-8859-1\", sep=\"\\t\")\n",
    "print(movie_directors.directorID.isna().sum())\n",
    "print(movie_directors.directorName.isna().sum())"
   ]
  },
  {
   "cell_type": "code",
   "execution_count": 10,
   "id": "63a7c7bf",
   "metadata": {},
   "outputs": [],
   "source": [
    "movie_directors = movie_directors[['movieID', 'directorID']]\n",
    "movie_directors['directorID'] = movie_directors['directorID'].apply(transform, sep=\"_\")\n",
    "movie_directors = movie_directors.groupby('movieID').agg(lambda x: list(x)).reset_index()\n",
    "movies = movies.merge(movie_directors, left_on='id', right_on='movieID')\n",
    "movies = movies.drop('movieID', axis=1)\n"
   ]
  },
  {
   "cell_type": "markdown",
   "id": "aa84b579",
   "metadata": {},
   "source": [
    "## Working with Movie Tags dataset\n",
    "\n",
    "This is another main dataset which have keywords related to movies. This is very import to find similar movies."
   ]
  },
  {
   "cell_type": "code",
   "execution_count": 11,
   "id": "ee981707",
   "metadata": {},
   "outputs": [],
   "source": [
    "tags = pd.read_csv(base_path+'tags.dat', encoding=\"ISO-8859-1\", sep=\"\\t\")\n",
    "movie_tags = pd.read_csv(base_path+'movie_tags.dat', encoding=\"ISO-8859-1\", sep=\"\\t\")\n",
    "\n",
    "movie_tags = movie_tags.merge(tags, left_on='tagID', right_on='id')\n",
    "#movie_tags['tagWeight'].value_counts()\n",
    "movie_tags = movie_tags[['movieID', 'value']]\n"
   ]
  },
  {
   "cell_type": "markdown",
   "id": "ba0bd9f9",
   "metadata": {},
   "source": [
    "Just check unique movies in this dataset. Also check if one tag has multiple words or single.\n",
    "\n",
    "As you can see just 7155 movies have tags. Whereas total movies are more than 10 thousand.\n",
    "\n",
    "Because this is import data and while merging it with movies dataset we will get just 7155 movie records for further analysis.\n",
    "\n",
    "I am moving forward to merge it. Alternatively we can go forward with just genre, actors and directors dataset."
   ]
  },
  {
   "cell_type": "code",
   "execution_count": 12,
   "id": "f176f1fc",
   "metadata": {},
   "outputs": [
    {
     "name": "stdout",
     "output_type": "stream",
     "text": [
      "7155\n",
      "False    26936\n",
      "True     24859\n",
      "Name: value, dtype: int64\n"
     ]
    }
   ],
   "source": [
    "print(movie_tags['movieID'].nunique())\n",
    "print(movie_tags['value'].str.contains(' ').value_counts())"
   ]
  },
  {
   "cell_type": "code",
   "execution_count": 13,
   "id": "6f10e540",
   "metadata": {},
   "outputs": [],
   "source": [
    "movie_tags['value'] = movie_tags['value'].apply(transform, sep=\" \")\n",
    "movie_tags = movie_tags.groupby('movieID').agg(lambda x: list(x))\n",
    "movie_tags = movie_tags.reset_index()\n",
    "movies = movies.merge(movie_tags, left_on='id', right_on='movieID')\n",
    "movies = movies.drop('movieID', axis=1)\n"
   ]
  },
  {
   "cell_type": "markdown",
   "id": "dcadd5f2",
   "metadata": {},
   "source": [
    "###### Finally we are concatinating genres, actors, directors and movie tags as movie details.\n",
    "\n",
    "###### And then converting it back as text from list."
   ]
  },
  {
   "cell_type": "code",
   "execution_count": 14,
   "id": "1d34ce33",
   "metadata": {},
   "outputs": [
    {
     "name": "stdout",
     "output_type": "stream",
     "text": [
      "         id                        title  \\\n",
      "0         1                    Toy story   \n",
      "1         2                      Jumanji   \n",
      "2         3               Grumpy Old Men   \n",
      "3         5  Father of the Bride Part II   \n",
      "4         6                         Heat   \n",
      "...     ...                          ...   \n",
      "7114  64993       Byôsoku 5 senchimêtoru   \n",
      "7115  65006                      Impulse   \n",
      "7116  65037                        Ben X   \n",
      "7117  65126                        Choke   \n",
      "7118  65130           Revolutionary Road   \n",
      "\n",
      "                                                details  \n",
      "0     Adventure Animation Children Comedy Fantasy An...  \n",
      "1     Adventure Children Fantasy 1135379-peterBryant...  \n",
      "2     Comedy Romance annmargret BuckHenry BuffySedla...  \n",
      "3     Comedy ann-walker AnnieMeyersShyer AprilOrtiz ...  \n",
      "4     Action Crime Thriller AlPacino AmyBrenneman As...  \n",
      "...                                                 ...  \n",
      "7114  Animation Drama Romance AyakaOnoue KenjiMizuha...  \n",
      "7115  Mystery Thriller AngusMacfadyen c-earnst-harth...  \n",
      "7116  Drama 1190388-gregTimmermans 1190389-marijkePi...  \n",
      "7117  Comedy Drama anjelicahuston BijouPhillips Brad...  \n",
      "7118  Drama Romance 1177928-kathrynHahn DavidHarbour...  \n",
      "\n",
      "[7119 rows x 3 columns]\n"
     ]
    }
   ],
   "source": [
    "movies['details'] = movies['genre']+movies['actorID']+movies['directorID']+movies['value']\n",
    "movies_final = movies.drop(['genre', 'actorID', 'directorID', 'value'], axis=1)\n",
    "movies_final['details'] = movies_final['details'].apply(lambda x: ' '.join(x))\n",
    "print(movies_final)"
   ]
  },
  {
   "cell_type": "markdown",
   "id": "35e7ae5a",
   "metadata": {},
   "source": [
    "##### Converting our text data into vector of number for modeling"
   ]
  },
  {
   "cell_type": "code",
   "execution_count": 15,
   "id": "6101dc06",
   "metadata": {},
   "outputs": [
    {
     "name": "stdout",
     "output_type": "stream",
     "text": [
      "(7119, 7119)\n"
     ]
    }
   ],
   "source": [
    "count_vec = CountVectorizer(max_features=len(movies_final), stop_words='english')\n",
    "\n",
    "words_vec = count_vec.fit_transform(movies_final['details']).toarray()\n",
    "print(words_vec.shape)"
   ]
  },
  {
   "cell_type": "markdown",
   "id": "bdbeb8dc",
   "metadata": {},
   "source": [
    "###### Calculating the matrix of cosine similarity of each movie against each movie"
   ]
  },
  {
   "cell_type": "code",
   "execution_count": 16,
   "id": "466c0c11",
   "metadata": {},
   "outputs": [
    {
     "name": "stdout",
     "output_type": "stream",
     "text": [
      "[[1.         0.15743507 0.05006262 ... 0.         0.05407381 0.        ]\n",
      " [0.15743507 1.         0.         ... 0.         0.         0.        ]\n",
      " [0.05006262 0.         1.         ... 0.         0.05143445 0.06299408]\n",
      " ...\n",
      " [0.         0.         0.         ... 1.         0.16666667 0.20412415]\n",
      " [0.05407381 0.         0.05143445 ... 0.16666667 1.         0.06804138]\n",
      " [0.         0.         0.06299408 ... 0.20412415 0.06804138 1.        ]]\n"
     ]
    }
   ],
   "source": [
    "similarity_score = cosine_similarity(words_vec)\n",
    "print(similarity_score)"
   ]
  },
  {
   "cell_type": "markdown",
   "id": "6d7e0a4f",
   "metadata": {},
   "source": [
    "###### A function which prints top 5 most similar movies to user query"
   ]
  },
  {
   "cell_type": "code",
   "execution_count": 17,
   "id": "4ea9d52d",
   "metadata": {},
   "outputs": [],
   "source": [
    "def recommend_top_5_movies(movie):\n",
    "    index = movies_final[movies_final['title'] == movie].index[0]\n",
    "    distances = sorted(list(enumerate(similarity_score[index])),reverse=True,key = lambda x: x[1])\n",
    "    for i in distances[1:6]:\n",
    "        print(movies_final.iloc[i[0]].title)\n",
    "        "
   ]
  },
  {
   "cell_type": "markdown",
   "id": "3fa4f5f3",
   "metadata": {},
   "source": [
    "###### Tried first example \"Batman Begins\" and results look amazing "
   ]
  },
  {
   "cell_type": "code",
   "execution_count": 18,
   "id": "463dcca1",
   "metadata": {
    "scrolled": true
   },
   "outputs": [
    {
     "name": "stdout",
     "output_type": "stream",
     "text": [
      "The Dark Knight\n",
      "Spider-Man\n",
      "Batman\n",
      "Batman: Mask of the Phantasm\n",
      "Batman Returns\n"
     ]
    }
   ],
   "source": [
    "recommend_top_5_movies('Batman Begins')"
   ]
  },
  {
   "cell_type": "markdown",
   "id": "62274d88",
   "metadata": {},
   "source": [
    "###### Tried second example \"Superman\" and results are still good "
   ]
  },
  {
   "cell_type": "code",
   "execution_count": 19,
   "id": "08336832",
   "metadata": {
    "scrolled": true
   },
   "outputs": [
    {
     "name": "stdout",
     "output_type": "stream",
     "text": [
      "Superman II\n",
      "Superman IV: The Quest for Peace\n",
      "Superman III\n",
      "Batman & Robin\n",
      "Superman Returns\n"
     ]
    }
   ],
   "source": [
    "recommend_top_5_movies('Superman')"
   ]
  },
  {
   "cell_type": "markdown",
   "id": "a91f3c41",
   "metadata": {},
   "source": [
    "###### Tried third example \"Iron Man\" and results are ok "
   ]
  },
  {
   "cell_type": "code",
   "execution_count": 20,
   "id": "dc352f40",
   "metadata": {},
   "outputs": [
    {
     "name": "stdout",
     "output_type": "stream",
     "text": [
      "Hellboy II: The Golden Army\n",
      "The Bourne Ultimatum\n",
      "Indiana Jones and the Kingdom of the Crystal Skull\n",
      "Serenity\n",
      "The Incredible Hulk\n"
     ]
    }
   ],
   "source": [
    "recommend_top_5_movies('Iron Man')"
   ]
  },
  {
   "cell_type": "markdown",
   "id": "f2d4547b",
   "metadata": {},
   "source": [
    "###### Saving both data and similarity score in pickle file for web interface of recommendation system"
   ]
  },
  {
   "cell_type": "code",
   "execution_count": 21,
   "id": "16179878",
   "metadata": {},
   "outputs": [],
   "source": [
    "pickle.dump(movies_final,open(base_path+'whole_data.pkl','wb'))\n",
    "pickle.dump(similarity_score,open(base_path+'similarity_score.pkl','wb'))"
   ]
  },
  {
   "cell_type": "code",
   "execution_count": null,
   "id": "6f2f8397",
   "metadata": {},
   "outputs": [],
   "source": []
  }
 ],
 "metadata": {
  "kernelspec": {
   "display_name": "Python 3 (ipykernel)",
   "language": "python",
   "name": "python3"
  },
  "language_info": {
   "codemirror_mode": {
    "name": "ipython",
    "version": 3
   },
   "file_extension": ".py",
   "mimetype": "text/x-python",
   "name": "python",
   "nbconvert_exporter": "python",
   "pygments_lexer": "ipython3",
   "version": "3.10.6"
  }
 },
 "nbformat": 4,
 "nbformat_minor": 5
}
